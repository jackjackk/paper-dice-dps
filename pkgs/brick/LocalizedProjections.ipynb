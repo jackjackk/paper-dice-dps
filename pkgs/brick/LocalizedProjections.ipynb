{
 "cells": [
  {
   "cell_type": "markdown",
   "metadata": {},
   "source": [
    "![actual brick](./brick_logo.png)\n",
    "\n",
    "# BRICK: Localized projections\n",
    "\n",
    "* Make localized projections using results from Wong and Keller (2017, DOI: 10.1002/2017EF000607)\n",
    "* Uses fingerprints of Slangen et al. (2014, DOI: TODO)\n",
    "* User-defined latitude/longitude\n",
    "* Result is a netCDF file of localized annual mean sea level\n",
    "* Include or not include sudden, rapid sea-level contribution from the Antarctic ice sheet (AIS fast dynamics)\n",
    "* Include any of RCP2.6, 4.5, 6.0 and 8.5\n",
    "\n",
    "Question?  Tony Wong (anthony.e.wong@colorado.edu)"
   ]
  },
  {
   "cell_type": "markdown",
   "metadata": {},
   "source": [
    "---\n",
    "\n",
    "<br>\n",
    "\n",
    "### Set location\n",
    "\n",
    "Where would you like localized projections?  Enter latitude and longitude as degrees north and degrees east."
   ]
  },
  {
   "cell_type": "code",
   "execution_count": 21,
   "metadata": {
    "collapsed": true
   },
   "outputs": [],
   "source": [
    "lat <- 37\n",
    "lon <- -76"
   ]
  },
  {
   "cell_type": "markdown",
   "metadata": {},
   "source": [
    "### AIS fast dynamics \n",
    "\n",
    "With or without Antarctic ice sheet fast dynamics?  (As in Wong et al. (2017, DOI: 10.1007/s10584-017-2039-4))"
   ]
  },
  {
   "cell_type": "code",
   "execution_count": 25,
   "metadata": {
    "collapsed": true
   },
   "outputs": [],
   "source": [
    "use_fastdynamics <- TRUE"
   ]
  },
  {
   "cell_type": "markdown",
   "metadata": {},
   "source": [
    "### BRICK output file\n",
    "\n",
    "Which BRICK output file would you like? (Defaults to Wong and Keller (2017))  This path is assumed relative to the BRICK home directory."
   ]
  },
  {
   "cell_type": "code",
   "execution_count": 26,
   "metadata": {
    "collapsed": true
   },
   "outputs": [],
   "source": [
    "filename.brick <- 'output_model/BRICK_physical_fd-gamma_08May2017.nc'"
   ]
  },
  {
   "cell_type": "markdown",
   "metadata": {},
   "source": [
    "Do a check to see if the requested file is local.  If not, fetch from download server.\n",
    "\n",
    "If this doesn't work, then you make need to either (1) try different `method` for the `download.file`, or (2) just navigate to that URL in your browser and find the relevant BRICK output file to download."
   ]
  },
  {
   "cell_type": "code",
   "execution_count": 27,
   "metadata": {
    "collapsed": true
   },
   "outputs": [],
   "source": [
    "files <- list.files(recursive=TRUE)\n",
    "ifile <- which(files==filename.brick)\n",
    "\n",
    "if(length(ifile)==0) {\n",
    "    download.file(paste('https://download.scrim.psu.edu/Wong_etal_BRICK/',filename.brick, sep=''),\n",
    "                  filename.brick, method='curl')\n",
    "}"
   ]
  },
  {
   "cell_type": "markdown",
   "metadata": {},
   "source": [
    "#### Read the results file\n",
    "\n",
    "Edit here the `rcps` variable if you only want a particular subset of the RCP scenarios."
   ]
  },
  {
   "cell_type": "code",
   "execution_count": 17,
   "metadata": {
    "collapsed": true
   },
   "outputs": [],
   "source": [
    "# make sure ncdf4 package is installed; install it, if not\n",
    "if('ncdf4' %in% rownames(installed.packages()) == FALSE) {install.packages('ncdf4')}\n",
    "library(ncdf4)\n",
    "\n",
    "rcps <- c('RCP26','RCP45','RCP60','RCP85'); n.rcp <- length(rcps)\n",
    "gmsl <- lsl <- ais <- gis <- gsic <- \n",
    "            te <- lws <- temp <- ocheat <- vector('list', n.rcp)\n",
    "names(gmsl) <- names(lsl) <- names(ais) <- names(gis) <- names(gsic) <- \n",
    "            names(te) <- names(lws) <- names(temp) <- names(ocheat) <- rcps\n",
    "\n",
    "ncdata <- nc_open(filename.brick)\n",
    "\n",
    "for (rcp in rcps) {\n",
    "    gmsl[[rcp]]   <- ncvar_get(ncdata, paste('GlobalSeaLevel_',rcp, sep=''))\n",
    "    ais[[rcp]]    <- ncvar_get(ncdata, paste('AIS_',rcp, sep=''))\n",
    "    gis[[rcp]]    <- ncvar_get(ncdata, paste('GIS_',rcp, sep=''))\n",
    "    gsic[[rcp]]   <- ncvar_get(ncdata, paste('GSIC_',rcp, sep=''))\n",
    "    te[[rcp]]     <- ncvar_get(ncdata, paste('TE_',rcp, sep=''))\n",
    "    lws[[rcp]]    <- ncvar_get(ncdata, paste('LWS_',rcp, sep=''))\n",
    "    temp[[rcp]]   <- ncvar_get(ncdata, paste('temp_',rcp, sep=''))\n",
    "    ocheat[[rcp]] <- ncvar_get(ncdata, paste('ocheat_',rcp, sep=''))\n",
    "    if(!use_fastdynamics) {\n",
    "        gmsl_nofd   <- ncvar_get(ncdata, paste('GlobalSeaLevel_nofd_',rcp, sep=''))\n",
    "        ais[[rcp]]  <- ais[[rcp]] - (gmsl[[rcp]] - gmsl_nofd)\n",
    "        gmsl[[rcp]] <- gmsl_nofd\n",
    "    }\n",
    "}\n",
    "\n",
    "t.proj     <- ncvar_get(ncdata, 'time_proj')\n",
    "n.ensemble <- length(ncvar_get(ncdata, 'ens'))\n",
    "\n",
    "nc_close(ncdata)"
   ]
  },
  {
   "cell_type": "code",
   "execution_count": 18,
   "metadata": {},
   "outputs": [],
   "source": [
    "gmsl_nofd <- gmsl"
   ]
  },
  {
   "cell_type": "code",
   "execution_count": 20,
   "metadata": {},
   "outputs": [
    {
     "data": {
      "text/html": [
       "0.00195009874204552"
      ],
      "text/latex": [
       "0.00195009874204552"
      ],
      "text/markdown": [
       "0.00195009874204552"
      ],
      "text/plain": [
       "[1] 0.001950099"
      ]
     },
     "metadata": {},
     "output_type": "display_data"
    }
   ],
   "source": [
    "mean(gmsl_fd$RCP45 - gmsl_nofd$RCP45)"
   ]
  },
  {
   "cell_type": "code",
   "execution_count": 29,
   "metadata": {},
   "outputs": [],
   "source": [
    "gmsl <- gmsl_fd"
   ]
  },
  {
   "cell_type": "markdown",
   "metadata": {},
   "source": [
    "### Local fingerprinting\n",
    "\n",
    "Load the global fingerprinting data set (Slangen et al 2014)"
   ]
  },
  {
   "cell_type": "code",
   "execution_count": 30,
   "metadata": {
    "collapsed": true
   },
   "outputs": [],
   "source": [
    "filename.fingerprints = './fingerprints/FINGERPRINTS_SLANGEN_Bakker.nc'\n",
    "\n",
    "ncdata  <- nc_open(filename.fingerprints)\n",
    "lat.fp  <- ncvar_get(ncdata, 'lat')\n",
    "lon.fp  <- ncvar_get(ncdata, 'lon')\n",
    "fp.gsic <- ncvar_get(ncdata, 'GLAC')\n",
    "fp.gis  <- ncvar_get(ncdata, 'GIS')\n",
    "fp.ais  <- ncvar_get(ncdata, 'AIS')\n",
    "nc_close(ncdata)"
   ]
  },
  {
   "cell_type": "markdown",
   "metadata": {},
   "source": [
    "#### Get local fingerprints\n",
    "\n",
    "Convert the given latitude and longitude to degrees East/North, and find the fingerprinting data set location closest to the local sea level lat/lon given."
   ]
  },
  {
   "cell_type": "code",
   "execution_count": 31,
   "metadata": {
    "collapsed": true
   },
   "outputs": [],
   "source": [
    "if(lon < 0) {lon <- lon + 360}  # convert longitude to degrees East\n",
    "ilat <- which( abs(lat.fp-lat)==min(abs(lat.fp-lat)) )\n",
    "ilon <- which( abs(lon.fp-lon)==min(abs(lon.fp-lon)) )"
   ]
  },
  {
   "cell_type": "markdown",
   "metadata": {},
   "source": [
    "It is possible there were multiple lats/lons 'closest' to your given point. In this case, take the average of the ones that are actually numbers."
   ]
  },
  {
   "cell_type": "code",
   "execution_count": 32,
   "metadata": {
    "collapsed": true
   },
   "outputs": [],
   "source": [
    "fp.ais.loc <- mean(fp.ais[ilon,ilat],na.rm=TRUE)\n",
    "fp.gsic.loc <- mean(fp.gsic[ilon,ilat],na.rm=TRUE)\n",
    "fp.gis.loc <- mean(fp.gis[ilon,ilat],na.rm=TRUE)\n",
    "fp.te.loc <- 1.0       # TE response is to global mean temperature, so global mean sea level response is same everywhere\n",
    "fp.lws.loc <- 1.0      # assume LWS changes uniformly (likely not quite true,\n",
    "                    # but a small contribution anyway)"
   ]
  },
  {
   "cell_type": "markdown",
   "metadata": {},
   "source": [
    "Check if the nearest spot ended up on land. If it did, take the average everywhere around the location."
   ]
  },
  {
   "cell_type": "code",
   "execution_count": 33,
   "metadata": {
    "collapsed": true
   },
   "outputs": [],
   "source": [
    "if(is.na(fp.ais.loc) | is.na(fp.gsic.loc) | is.na(fp.gis.loc) | is.na(fp.te.loc)) {\n",
    "    fp.ais.loc <- mean(fp.ais[(ilon-1):(ilon+1),(ilat-1):(ilat+1)], na.rm=TRUE)\n",
    "    fp.gsic.loc <- mean(fp.gsic[(ilon-1):(ilon+1),(ilat-1):(ilat+1)], na.rm=TRUE)\n",
    "    fp.gis.loc <- mean(fp.gis[(ilon-1):(ilon+1),(ilat-1):(ilat+1)], na.rm=TRUE)\n",
    "    fp.te.loc <- 1.0\n",
    "    fp.lws.loc <- 1.0\n",
    "}"
   ]
  },
  {
   "cell_type": "markdown",
   "metadata": {},
   "source": [
    "If there is still something wrong, probably the desired lat/lon location is accidentally not near the coast."
   ]
  },
  {
   "cell_type": "code",
   "execution_count": 34,
   "metadata": {
    "collapsed": true
   },
   "outputs": [],
   "source": [
    "if(is.na(fp.ais.loc) | is.na(fp.gsic.loc) | is.na(fp.gis.loc) | is.na(fp.te.loc)) {\n",
    "    print('WARNING -- local sea level fingerprints are NaN. Is the lat/lon point possibly over land?')\n",
    "}"
   ]
  },
  {
   "cell_type": "markdown",
   "metadata": {},
   "source": [
    "### Calculate local sea level"
   ]
  },
  {
   "cell_type": "code",
   "execution_count": 35,
   "metadata": {
    "collapsed": true
   },
   "outputs": [],
   "source": [
    "for (rcp in rcps) {\n",
    "    lsl[[rcp]] <- mat.or.vec(nr=nrow(gmsl[[rcp]]), nc=ncol(gmsl[[rcp]]))\n",
    "    for (sow in 1:n.ensemble) {\n",
    "        lsl[[rcp]][,sow] <- fp.gis.loc  * gis[[rcp]][,sow]  +\n",
    "                            fp.ais.loc  * ais[[rcp]][,sow]  +\n",
    "                            fp.gsic.loc * gsic[[rcp]][,sow] +\n",
    "                            fp.te.loc   * te[[rcp]][,sow]   +\n",
    "                            fp.lws.loc  * lws[[rcp]][,sow]\n",
    "    }\n",
    "}"
   ]
  },
  {
   "cell_type": "markdown",
   "metadata": {},
   "source": [
    "#### Reference period\n",
    "\n",
    "Check that all sea-level projections and temperatures are relative to 1986-2005 means. Or change this to whatever you want the reference period to be.  Set `reference_period` to the beginning and ending years of whatever reference period you would like!  Must be within the 1850-2100 simulation years."
   ]
  },
  {
   "cell_type": "code",
   "execution_count": 36,
   "metadata": {
    "collapsed": true
   },
   "outputs": [],
   "source": [
    "reference.period <- c(1986, 2005)\n",
    "\n",
    "ind.norm <- which(t.proj==reference.period[1]):which(t.proj==reference.period[2])\n",
    "\n",
    "for (rcp in rcps) {\n",
    "    lsl[[rcp]] <- lsl[[rcp]] - matrix(apply(X=lsl[[rcp]][ind.norm,], MARGIN=2, FUN=mean), \n",
    "                                      nrow=length(t.proj), ncol=n.ensemble, byrow=TRUE)\n",
    "}"
   ]
  },
  {
   "cell_type": "markdown",
   "metadata": {},
   "source": [
    "### Write output file.\n",
    "\n",
    "Start by giving it a nice name. This one is perhaps not so nice."
   ]
  },
  {
   "cell_type": "code",
   "execution_count": 44,
   "metadata": {
    "collapsed": true
   },
   "outputs": [],
   "source": [
    "filename.output <- './output_model/testing.nc'"
   ]
  },
  {
   "cell_type": "markdown",
   "metadata": {},
   "source": [
    "Now create the actual file:"
   ]
  },
  {
   "cell_type": "code",
   "execution_count": 45,
   "metadata": {
    "collapsed": true
   },
   "outputs": [],
   "source": [
    "dim.tproj    <- ncdim_def('time_proj', 'years', as.double(t.proj))\n",
    "dim.lat      <- ncdim_def('lat', 'deg N', as.double(length(lat)))\n",
    "dim.lon      <- ncdim_def('lon', 'deg E', as.double(length(lon)))\n",
    "dim.ensemble <- ncdim_def('ens', 'ensemble member', as.double(1:ncol(lsl[[1]])), unlim=TRUE)\n",
    "\n",
    "def.lat <- ncvar_def('lat.lsl', 'deg N', list(dim.lat), -999, longname = 'latitude of local sea level point')\n",
    "def.lon <- ncvar_def('lon.lsl', 'deg E', list(dim.lon), -999, longname = 'longitude of local sea level point')\n",
    "\n",
    "def.lsl <- vector('list', n.rcp); names(def.lsl) <- rcps\n",
    "for (rcp in rcps) {\n",
    "    def.lsl[[rcp]] <- ncvar_def(paste('LocalSeaLevel_',rcp, sep=''), 'meters', \n",
    "                                list(dim.tproj, dim.ensemble), -999, longname = paste('Local sea level ',rcp, sep=''))\n",
    "}\n",
    "\n",
    "outlist = list()\n",
    "for (i in 1:n.rcp) {\n",
    "    outlist[[i]] <- def.lsl[[i]]\n",
    "}\n",
    "outlist[[i+1]] <- def.lat\n",
    "outlist[[i+2]] <- def.lon\n",
    "\n",
    "outnc <- nc_create(filename.output, outlist, force_v4=TRUE)\n",
    "\n",
    "ncvar_put(outnc, def.lat, lat)\n",
    "ncvar_put(outnc, def.lon, lon)\n",
    "for (rcp in rcps) {\n",
    "    ncvar_put(outnc, def.lsl[[rcp]], lsl[[rcp]])\n",
    "}\n",
    "\n",
    "nc_close(outnc)"
   ]
  },
  {
   "cell_type": "code",
   "execution_count": null,
   "metadata": {
    "collapsed": true
   },
   "outputs": [],
   "source": []
  }
 ],
 "metadata": {
  "kernelspec": {
   "display_name": "R",
   "language": "R",
   "name": "ir"
  },
  "language_info": {
   "codemirror_mode": "r",
   "file_extension": ".r",
   "mimetype": "text/x-r-source",
   "name": "R",
   "pygments_lexer": "r",
   "version": "3.4.1"
  }
 },
 "nbformat": 4,
 "nbformat_minor": 2
}
